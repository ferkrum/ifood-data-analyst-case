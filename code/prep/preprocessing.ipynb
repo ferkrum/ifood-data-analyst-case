{
 "cells": [
  {
   "cell_type": "code",
   "execution_count": null,
   "metadata": {},
   "outputs": [],
   "source": []
  }
 ],
 "metadata": {
  "kernelspec": {
   "display_name": "Python 3.10.6 ('venv': venv)",
   "language": "python",
   "name": "python3"
  },
  "language_info": {
   "name": "python",
   "version": "3.10.6"
  },
  "orig_nbformat": 4,
  "vscode": {
   "interpreter": {
    "hash": "65e15074db0ce0c06277cbfe6b2480b7b8f615c27d90593ada4ec7342456f97a"
   }
  }
 },
 "nbformat": 4,
 "nbformat_minor": 2
}
